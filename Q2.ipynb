{
 "cells": [
  {
   "cell_type": "markdown",
   "metadata": {},
   "source": [
    "# Baby Names Analysis"
   ]
  },
  {
   "cell_type": "markdown",
   "metadata": {},
   "source": [
    "## basic logic"
   ]
  },
  {
   "cell_type": "code",
   "execution_count": 1,
   "metadata": {},
   "outputs": [
    {
     "data": {
      "text/html": [
       "<img src=\"https://github.com/huilincai/baby-names-analysis/blob/master/BABY%20NAMES%20ANALYSIS.png?raw=true\"/>"
      ],
      "text/plain": [
       "<IPython.core.display.Image object>"
      ]
     },
     "execution_count": 1,
     "metadata": {},
     "output_type": "execute_result"
    }
   ],
   "source": [
    "from IPython.display import Image\n",
    "from IPython.core.display import HTML \n",
    "Image(url= \"https://github.com/huilincai/baby-names-analysis/blob/master/BABY%20NAMES%20ANALYSIS.png?raw=true\")"
   ]
  },
  {
   "cell_type": "markdown",
   "metadata": {},
   "source": [
    "## 1.Combine all of the individual state files into one dataset. "
   ]
  },
  {
   "cell_type": "code",
   "execution_count": 2,
   "metadata": {},
   "outputs": [
    {
     "data": {
      "text/plain": [
       "('namesbystate.zip', <http.client.HTTPMessage at 0x1117c4ef0>)"
      ]
     },
     "execution_count": 2,
     "metadata": {},
     "output_type": "execute_result"
    }
   ],
   "source": [
    "### Get data\n",
    "link= \"https://www.ssa.gov/oact/babynames/state/namesbystate.zip\"\n",
    "import urllib.request\n",
    "urllib.request.urlretrieve(link,'namesbystate.zip')"
   ]
  },
  {
   "cell_type": "code",
   "execution_count": 3,
   "metadata": {},
   "outputs": [],
   "source": [
    "import zipfile\n",
    "with zipfile.ZipFile(\"namesbystate.zip\", 'r') as zip_ref:\n",
    "    zip_ref.extractall(\"data\")"
   ]
  },
  {
   "cell_type": "code",
   "execution_count": 4,
   "metadata": {},
   "outputs": [],
   "source": [
    "### combine all individual files into one\n",
    "import os\n",
    "file_list =[ file for file in os.listdir('data') if file.endswith(\"TXT\")]\n",
    "\n",
    "with open('data/names.txt', 'w') as outfile:\n",
    "    for fname in file_list:\n",
    "        with open(\"data/\" + fname) as infile:\n",
    "            outfile.write(infile.read())"
   ]
  },
  {
   "cell_type": "code",
   "execution_count": 5,
   "metadata": {},
   "outputs": [],
   "source": [
    "import numpy as np  \n",
    "import pandas as pd  "
   ]
  },
  {
   "cell_type": "code",
   "execution_count": 6,
   "metadata": {
    "scrolled": true
   },
   "outputs": [],
   "source": [
    "### read the data as a dataframe\n",
    "data = pd.read_csv('data/names.txt', sep=\",\", header = None)\n",
    "data.columns = ['state','gender','year','name','number of babies']"
   ]
  },
  {
   "cell_type": "code",
   "execution_count": 7,
   "metadata": {
    "scrolled": false
   },
   "outputs": [
    {
     "data": {
      "text/html": [
       "<div>\n",
       "<style scoped>\n",
       "    .dataframe tbody tr th:only-of-type {\n",
       "        vertical-align: middle;\n",
       "    }\n",
       "\n",
       "    .dataframe tbody tr th {\n",
       "        vertical-align: top;\n",
       "    }\n",
       "\n",
       "    .dataframe thead th {\n",
       "        text-align: right;\n",
       "    }\n",
       "</style>\n",
       "<table border=\"1\" class=\"dataframe\">\n",
       "  <thead>\n",
       "    <tr style=\"text-align: right;\">\n",
       "      <th></th>\n",
       "      <th>state</th>\n",
       "      <th>gender</th>\n",
       "      <th>year</th>\n",
       "      <th>name</th>\n",
       "      <th>number of babies</th>\n",
       "    </tr>\n",
       "  </thead>\n",
       "  <tbody>\n",
       "    <tr>\n",
       "      <th>0</th>\n",
       "      <td>AK</td>\n",
       "      <td>F</td>\n",
       "      <td>1910</td>\n",
       "      <td>Mary</td>\n",
       "      <td>14</td>\n",
       "    </tr>\n",
       "    <tr>\n",
       "      <th>1</th>\n",
       "      <td>AK</td>\n",
       "      <td>F</td>\n",
       "      <td>1910</td>\n",
       "      <td>Annie</td>\n",
       "      <td>12</td>\n",
       "    </tr>\n",
       "    <tr>\n",
       "      <th>2</th>\n",
       "      <td>AK</td>\n",
       "      <td>F</td>\n",
       "      <td>1910</td>\n",
       "      <td>Anna</td>\n",
       "      <td>10</td>\n",
       "    </tr>\n",
       "    <tr>\n",
       "      <th>3</th>\n",
       "      <td>AK</td>\n",
       "      <td>F</td>\n",
       "      <td>1910</td>\n",
       "      <td>Margaret</td>\n",
       "      <td>8</td>\n",
       "    </tr>\n",
       "    <tr>\n",
       "      <th>4</th>\n",
       "      <td>AK</td>\n",
       "      <td>F</td>\n",
       "      <td>1910</td>\n",
       "      <td>Helen</td>\n",
       "      <td>7</td>\n",
       "    </tr>\n",
       "    <tr>\n",
       "      <th>5</th>\n",
       "      <td>AK</td>\n",
       "      <td>F</td>\n",
       "      <td>1910</td>\n",
       "      <td>Elsie</td>\n",
       "      <td>6</td>\n",
       "    </tr>\n",
       "    <tr>\n",
       "      <th>6</th>\n",
       "      <td>AK</td>\n",
       "      <td>F</td>\n",
       "      <td>1910</td>\n",
       "      <td>Lucy</td>\n",
       "      <td>6</td>\n",
       "    </tr>\n",
       "    <tr>\n",
       "      <th>7</th>\n",
       "      <td>AK</td>\n",
       "      <td>F</td>\n",
       "      <td>1910</td>\n",
       "      <td>Dorothy</td>\n",
       "      <td>5</td>\n",
       "    </tr>\n",
       "    <tr>\n",
       "      <th>8</th>\n",
       "      <td>AK</td>\n",
       "      <td>F</td>\n",
       "      <td>1911</td>\n",
       "      <td>Mary</td>\n",
       "      <td>12</td>\n",
       "    </tr>\n",
       "    <tr>\n",
       "      <th>9</th>\n",
       "      <td>AK</td>\n",
       "      <td>F</td>\n",
       "      <td>1911</td>\n",
       "      <td>Margaret</td>\n",
       "      <td>7</td>\n",
       "    </tr>\n",
       "  </tbody>\n",
       "</table>\n",
       "</div>"
      ],
      "text/plain": [
       "  state gender  year      name  number of babies\n",
       "0    AK      F  1910      Mary                14\n",
       "1    AK      F  1910     Annie                12\n",
       "2    AK      F  1910      Anna                10\n",
       "3    AK      F  1910  Margaret                 8\n",
       "4    AK      F  1910     Helen                 7\n",
       "5    AK      F  1910     Elsie                 6\n",
       "6    AK      F  1910      Lucy                 6\n",
       "7    AK      F  1910   Dorothy                 5\n",
       "8    AK      F  1911      Mary                12\n",
       "9    AK      F  1911  Margaret                 7"
      ]
     },
     "execution_count": 7,
     "metadata": {},
     "output_type": "execute_result"
    }
   ],
   "source": [
    "data.head(10)"
   ]
  },
  {
   "cell_type": "markdown",
   "metadata": {},
   "source": [
    "## 2.Find the most gender-neutral names"
   ]
  },
  {
   "cell_type": "code",
   "execution_count": 8,
   "metadata": {},
   "outputs": [],
   "source": [
    "### find the number of names used by males and females \n",
    "df1 = data.groupby(['name','gender']).size().reset_index()"
   ]
  },
  {
   "cell_type": "code",
   "execution_count": 9,
   "metadata": {},
   "outputs": [
    {
     "data": {
      "text/html": [
       "<div>\n",
       "<style scoped>\n",
       "    .dataframe tbody tr th:only-of-type {\n",
       "        vertical-align: middle;\n",
       "    }\n",
       "\n",
       "    .dataframe tbody tr th {\n",
       "        vertical-align: top;\n",
       "    }\n",
       "\n",
       "    .dataframe thead th {\n",
       "        text-align: right;\n",
       "    }\n",
       "</style>\n",
       "<table border=\"1\" class=\"dataframe\">\n",
       "  <thead>\n",
       "    <tr style=\"text-align: right;\">\n",
       "      <th></th>\n",
       "      <th>name</th>\n",
       "      <th>gender</th>\n",
       "      <th>count</th>\n",
       "    </tr>\n",
       "  </thead>\n",
       "  <tbody>\n",
       "    <tr>\n",
       "      <th>0</th>\n",
       "      <td>Aaban</td>\n",
       "      <td>M</td>\n",
       "      <td>2</td>\n",
       "    </tr>\n",
       "    <tr>\n",
       "      <th>1</th>\n",
       "      <td>Aadan</td>\n",
       "      <td>M</td>\n",
       "      <td>4</td>\n",
       "    </tr>\n",
       "    <tr>\n",
       "      <th>2</th>\n",
       "      <td>Aadarsh</td>\n",
       "      <td>M</td>\n",
       "      <td>1</td>\n",
       "    </tr>\n",
       "    <tr>\n",
       "      <th>3</th>\n",
       "      <td>Aaden</td>\n",
       "      <td>M</td>\n",
       "      <td>248</td>\n",
       "    </tr>\n",
       "    <tr>\n",
       "      <th>4</th>\n",
       "      <td>Aadhav</td>\n",
       "      <td>M</td>\n",
       "      <td>6</td>\n",
       "    </tr>\n",
       "  </tbody>\n",
       "</table>\n",
       "</div>"
      ],
      "text/plain": [
       "      name gender  count\n",
       "0    Aaban      M      2\n",
       "1    Aadan      M      4\n",
       "2  Aadarsh      M      1\n",
       "3    Aaden      M    248\n",
       "4   Aadhav      M      6"
      ]
     },
     "execution_count": 9,
     "metadata": {},
     "output_type": "execute_result"
    }
   ],
   "source": [
    "df1.columns = ['name','gender','count']\n",
    "df1.head()"
   ]
  },
  {
   "cell_type": "code",
   "execution_count": 10,
   "metadata": {},
   "outputs": [],
   "source": [
    "def helper(df):\n",
    "    if  df.shape[0] == 2: ### have names used for both M and F\n",
    "        count = df['count'].values\n",
    "        return count[0]/count[1] ### calculate the ratio of M to F\n",
    "    else:\n",
    "        return 0"
   ]
  },
  {
   "cell_type": "code",
   "execution_count": 11,
   "metadata": {},
   "outputs": [],
   "source": [
    "ratios = df1.groupby(\"name\").apply(lambda x:helper(x))"
   ]
  },
  {
   "cell_type": "code",
   "execution_count": 12,
   "metadata": {
    "scrolled": true
   },
   "outputs": [
    {
     "data": {
      "text/plain": [
       "name\n",
       "Addis            1.0\n",
       "Afnan            1.0\n",
       "Aiman            1.0\n",
       "Albie            1.0\n",
       "Altair           1.0\n",
       "Amandeep         1.0\n",
       "Amil             1.0\n",
       "Arvie            1.0\n",
       "Asuncion         1.0\n",
       "Bentlie          1.0\n",
       "Britten          1.0\n",
       "Chia             1.0\n",
       "Child            1.0\n",
       "Christia         1.0\n",
       "Clemence         1.0\n",
       "Daris            1.0\n",
       "Darriel          1.0\n",
       "Dayan            1.0\n",
       "Decklyn          1.0\n",
       "Deshone          1.0\n",
       "Devonne          1.0\n",
       "Dezi             1.0\n",
       "Diarra           1.0\n",
       "Dorsie           1.0\n",
       "Dossie           1.0\n",
       "Edris            1.0\n",
       "Eri              1.0\n",
       "Evann            1.0\n",
       "Francesc         1.0\n",
       "Garnell          1.0\n",
       "                ... \n",
       "Navjot           1.0\n",
       "Newborn          1.0\n",
       "Olamide          1.0\n",
       "Olie             1.0\n",
       "Oluwadamilola    1.0\n",
       "Oluwasemilore    1.0\n",
       "Osa              1.0\n",
       "Parris           1.0\n",
       "Peni             1.0\n",
       "Rael             1.0\n",
       "Rajdeep          1.0\n",
       "Rameen           1.0\n",
       "Rei              1.0\n",
       "Rumi             1.0\n",
       "Salam            1.0\n",
       "Shaune           1.0\n",
       "Shine            1.0\n",
       "Sophana          1.0\n",
       "Tanveer          1.0\n",
       "Terin            1.0\n",
       "Tevis            1.0\n",
       "Tru              1.0\n",
       "Unkown           1.0\n",
       "Vandy            1.0\n",
       "Void             1.0\n",
       "Wen              1.0\n",
       "Yihan            1.0\n",
       "Ynes             1.0\n",
       "Yuan             1.0\n",
       "Yue              1.0\n",
       "Length: 88, dtype: float64"
      ]
     },
     "execution_count": 12,
     "metadata": {},
     "output_type": "execute_result"
    }
   ],
   "source": [
    "MostGenderNeutralNames = ratios[ratios == 1] ### most gender-neutral\n",
    "MostGenderNeutralNames"
   ]
  },
  {
   "cell_type": "markdown",
   "metadata": {},
   "source": [
    "### Hence, the most gender-neutral names are the names shown above."
   ]
  },
  {
   "cell_type": "markdown",
   "metadata": {},
   "source": [
    "## 3. Find the “trendsetters” and \"followers\""
   ]
  },
  {
   "cell_type": "code",
   "execution_count": 13,
   "metadata": {
    "scrolled": true
   },
   "outputs": [
    {
     "data": {
      "text/html": [
       "<div>\n",
       "<style scoped>\n",
       "    .dataframe tbody tr th:only-of-type {\n",
       "        vertical-align: middle;\n",
       "    }\n",
       "\n",
       "    .dataframe tbody tr th {\n",
       "        vertical-align: top;\n",
       "    }\n",
       "\n",
       "    .dataframe thead th {\n",
       "        text-align: right;\n",
       "    }\n",
       "</style>\n",
       "<table border=\"1\" class=\"dataframe\">\n",
       "  <thead>\n",
       "    <tr style=\"text-align: right;\">\n",
       "      <th></th>\n",
       "      <th>name</th>\n",
       "      <th>year</th>\n",
       "      <th>state</th>\n",
       "      <th>0</th>\n",
       "    </tr>\n",
       "  </thead>\n",
       "  <tbody>\n",
       "    <tr>\n",
       "      <th>0</th>\n",
       "      <td>Aaban</td>\n",
       "      <td>2013</td>\n",
       "      <td>NY</td>\n",
       "      <td>1</td>\n",
       "    </tr>\n",
       "    <tr>\n",
       "      <th>1</th>\n",
       "      <td>Aaban</td>\n",
       "      <td>2014</td>\n",
       "      <td>NY</td>\n",
       "      <td>1</td>\n",
       "    </tr>\n",
       "    <tr>\n",
       "      <th>2</th>\n",
       "      <td>Aadan</td>\n",
       "      <td>2008</td>\n",
       "      <td>CA</td>\n",
       "      <td>1</td>\n",
       "    </tr>\n",
       "    <tr>\n",
       "      <th>3</th>\n",
       "      <td>Aadan</td>\n",
       "      <td>2008</td>\n",
       "      <td>TX</td>\n",
       "      <td>1</td>\n",
       "    </tr>\n",
       "    <tr>\n",
       "      <th>4</th>\n",
       "      <td>Aadan</td>\n",
       "      <td>2009</td>\n",
       "      <td>CA</td>\n",
       "      <td>1</td>\n",
       "    </tr>\n",
       "    <tr>\n",
       "      <th>5</th>\n",
       "      <td>Aadan</td>\n",
       "      <td>2014</td>\n",
       "      <td>CA</td>\n",
       "      <td>1</td>\n",
       "    </tr>\n",
       "    <tr>\n",
       "      <th>6</th>\n",
       "      <td>Aadarsh</td>\n",
       "      <td>2009</td>\n",
       "      <td>IL</td>\n",
       "      <td>1</td>\n",
       "    </tr>\n",
       "    <tr>\n",
       "      <th>7</th>\n",
       "      <td>Aaden</td>\n",
       "      <td>2005</td>\n",
       "      <td>OH</td>\n",
       "      <td>1</td>\n",
       "    </tr>\n",
       "    <tr>\n",
       "      <th>8</th>\n",
       "      <td>Aaden</td>\n",
       "      <td>2007</td>\n",
       "      <td>AL</td>\n",
       "      <td>1</td>\n",
       "    </tr>\n",
       "    <tr>\n",
       "      <th>9</th>\n",
       "      <td>Aaden</td>\n",
       "      <td>2007</td>\n",
       "      <td>AZ</td>\n",
       "      <td>1</td>\n",
       "    </tr>\n",
       "  </tbody>\n",
       "</table>\n",
       "</div>"
      ],
      "text/plain": [
       "      name  year state  0\n",
       "0    Aaban  2013    NY  1\n",
       "1    Aaban  2014    NY  1\n",
       "2    Aadan  2008    CA  1\n",
       "3    Aadan  2008    TX  1\n",
       "4    Aadan  2009    CA  1\n",
       "5    Aadan  2014    CA  1\n",
       "6  Aadarsh  2009    IL  1\n",
       "7    Aaden  2005    OH  1\n",
       "8    Aaden  2007    AL  1\n",
       "9    Aaden  2007    AZ  1"
      ]
     },
     "execution_count": 13,
     "metadata": {},
     "output_type": "execute_result"
    }
   ],
   "source": [
    "### record the names count as 1 if it was used in a specific state in a specific year\n",
    "df2 = data.groupby(['name','year','state']).size().reset_index()\n",
    "\n",
    "df2.head(10)"
   ]
  },
  {
   "cell_type": "markdown",
   "metadata": {},
   "source": [
    "### Assumptions:<br/>\n",
    "1. The new names we are going to analyze all appeared after 1910, because we don't want to confuse the new names that came out in 1910 with the names that came out before 1910.<br/>\n",
    "2. We don't consider the name only appeared once, beacuase we don't want the new name to be just an accident rather than a new name that can lead the trend.<br/>\n",
    "3. Only one state can be the trendsetter for each new name.<br/>\n",
    "4. The total number of new names after the first use should be more than 1,000, since we want the names to have certain popularity.\n"
   ]
  },
  {
   "cell_type": "code",
   "execution_count": 14,
   "metadata": {},
   "outputs": [],
   "source": [
    "def helper2(df):\n",
    "    if df.year.values[0] != \"1910\":\n",
    "        if df.shape[0] > 1: # row > 1\n",
    "            if df.state.unique().size > 1 and df.year.unique().size : # state count > 1\n",
    "                if df[0].values[1:].sum()>1000:\n",
    "                    return df.state.values[0] "
   ]
  },
  {
   "cell_type": "code",
   "execution_count": 15,
   "metadata": {},
   "outputs": [],
   "source": [
    "### find \"trendsetter\" state for the names\n",
    "df2Count = df2.groupby(\"name\").apply(helper2)\n"
   ]
  },
  {
   "cell_type": "code",
   "execution_count": 16,
   "metadata": {},
   "outputs": [],
   "source": [
    "dftmp = pd.DataFrame(df2Count).reset_index()"
   ]
  },
  {
   "cell_type": "code",
   "execution_count": 17,
   "metadata": {},
   "outputs": [],
   "source": [
    "dftmp.columns = ['name','state']"
   ]
  },
  {
   "cell_type": "code",
   "execution_count": 18,
   "metadata": {},
   "outputs": [],
   "source": [
    "### calculate how many times has each state been a “trendsetter”\n",
    "trendsetter = dftmp.groupby(\"state\").size()"
   ]
  },
  {
   "cell_type": "code",
   "execution_count": 19,
   "metadata": {
    "scrolled": true
   },
   "outputs": [
    {
     "data": {
      "text/plain": [
       "state\n",
       "AK     16\n",
       "AL    455\n",
       "AR     46\n",
       "AZ     22\n",
       "CA    287\n",
       "CO      2\n",
       "CT     10\n",
       "DC      1\n",
       "FL      8\n",
       "GA     52\n",
       "HI      2\n",
       "IA     36\n",
       "IL     85\n",
       "IN     12\n",
       "KS      3\n",
       "KY     24\n",
       "LA     28\n",
       "MA     39\n",
       "ME      2\n",
       "MI     21\n",
       "MN     11\n",
       "MO      7\n",
       "MS     19\n",
       "NC     29\n",
       "ND      2\n",
       "NE      3\n",
       "NH      1\n",
       "NJ      7\n",
       "NM      8\n",
       "NY    199\n",
       "OH     21\n",
       "OK      7\n",
       "OR      1\n",
       "PA     45\n",
       "SC     11\n",
       "TN      8\n",
       "TX     89\n",
       "UT     13\n",
       "VA     12\n",
       "WA      3\n",
       "WI      3\n",
       "WV      4\n",
       "dtype: int64"
      ]
     },
     "execution_count": 19,
     "metadata": {},
     "output_type": "execute_result"
    }
   ],
   "source": [
    "trendsetter"
   ]
  },
  {
   "cell_type": "markdown",
   "metadata": {},
   "source": [
    "#### Now let us explore are there any \"followers\"(states that tend to adopt names after they gain popularity in other states)?"
   ]
  },
  {
   "cell_type": "code",
   "execution_count": 20,
   "metadata": {},
   "outputs": [],
   "source": [
    "def helper3(df):\n",
    "    if df.year.values[0] != \"1910\":\n",
    "        if df.shape[0] > 1: # row > 1\n",
    "            if df.state.unique().size > 1 and df.year.unique().size : # state count > 1\n",
    "                if df[0].values[1:].sum()>1000:\n",
    "                    return df.state.values[1:] #find the followers\n",
    "    "
   ]
  },
  {
   "cell_type": "code",
   "execution_count": 21,
   "metadata": {
    "scrolled": true
   },
   "outputs": [
    {
     "data": {
      "text/plain": [
       "name\n",
       "Aaliyah      [NJ, OH, PA, NJ, NY, PA, NJ, NY, PA, NJ, NY, P...\n",
       "Aaron        [AR, GA, IL, MO, MS, NC, NY, PA, TN, TX, VA, W...\n",
       "Abbey        [NY, NY, NY, NY, NJ, NY, NY, PA, NY, NY, PA, C...\n",
       "Abbie        [MA, MS, TX, GA, MS, OK, TX, AL, AR, MO, MS, O...\n",
       "Abby         [NY, NY, NY, NY, NY, NY, NY, NY, NY, NY, NY, N...\n",
       "Abel         [TX, LA, TX, TX, AZ, TX, CO, LA, MA, NM, TX, A...\n",
       "Abigail      [NY, NY, NY, TX, CA, NY, TX, PA, CA, HI, HI, M...\n",
       "Abraham      [GA, MA, NY, PA, SC, CT, FL, GA, IL, MA, MS, N...\n",
       "Ada          [AR, CA, CO, CT, FL, GA, IA, IL, IN, KS, KY, L...\n",
       "Adam         [AR, FL, GA, IL, LA, MI, MS, NC, NJ, NY, OH, P...\n",
       "Addie        [AR, FL, GA, KY, LA, MO, MS, NC, OK, SC, TN, T...\n",
       "Addison      [TX, NY, PA, TX, NC, NY, PA, GA, NY, PA, VA, K...\n",
       "Adelaide     [CT, GA, IA, IL, MA, MI, MN, NC, NJ, NY, OH, P...\n",
       "Adele        [CA, GA, IL, LA, MA, MD, MO, NC, NJ, NY, PA, T...\n",
       "Adeline      [CT, GA, IA, IL, LA, MA, MI, MN, MO, MS, MT, N...\n",
       "Adrian       [TX, NJ, NY, OH, PA, GA, IA, IL, KS, MO, NC, N...\n",
       "Adriana      [NY, CA, NY, NY, NY, TX, TX, TX, CA, TX, TX, T...\n",
       "Adrianna     [CA, NY, TX, NY, CA, CA, NY, TX, CA, FL, NJ, C...\n",
       "Adrienne     [IL, CA, MA, MA, NY, MA, NY, MA, ME, NY, CA, I...\n",
       "Agnes        [AR, AZ, CA, CO, CT, DC, DE, FL, GA, HI, IA, I...\n",
       "Aidan        [NY, NY, CA, NY, NY, CA, CA, CA, CA, CA, NY, P...\n",
       "Aiden        [CA, CA, CA, MA, CA, IL, MA, NY, WA, CA, CO, F...\n",
       "Aileen       [IN, KY, MI, MO, NY, TN, TX, AL, AR, CA, GA, I...\n",
       "Aimee        [LA, NY, LA, CA, NY, NY, PA, CA, WA, PA, CA, L...\n",
       "Aisha        [NY, NY, NY, CA, NY, CA, NY, CA, IL, NY, CA, N...\n",
       "Al           [NY, PA, CA, MO, NY, AL, IL, MI, NY, OK, PA, T...\n",
       "Alaina       [CA, CA, NY, CA, CA, MI, CA, IL, LA, NY, CA, I...\n",
       "Alan         [NY, OH, CA, NY, CA, IL, MA, NJ, NY, PA, CA, I...\n",
       "Alana        [NY, CA, IL, KS, NJ, NY, OH, TX, CA, IA, IL, M...\n",
       "Alanna       [CA, NY, CA, MI, CA, NY, CA, NY, OH, TX, CA, I...\n",
       "                                   ...                        \n",
       "Whitney      [LA, LA, LA, LA, NY, LA, LA, LA, MA, LA, NY, L...\n",
       "Wilbert      [IL, LA, MI, MO, MS, NC, OH, PA, TN, VA, WI, W...\n",
       "Wilbur       [CA, CO, DC, FL, GA, IA, IL, IN, KS, KY, MD, M...\n",
       "Wilfred      [LA, MA, ME, MI, PA, IA, IL, LA, MA, ME, MN, N...\n",
       "Will         [AR, FL, GA, LA, MS, NC, SC, TN, TX, VA, AL, A...\n",
       "Willa        [AR, GA, KY, MO, NC, OK, SC, TN, TX, WV, AL, G...\n",
       "Willard      [IA, IL, IN, KS, KY, MA, MI, MN, MO, MS, NC, N...\n",
       "William      [AL, AR, AZ, CA, CO, CT, DC, DE, FL, GA, HI, I...\n",
       "Willie       [AR, CA, CO, FL, GA, IL, IN, KY, LA, MI, MO, M...\n",
       "Willis       [AR, GA, IL, KY, LA, MI, MS, NC, NY, OH, OK, P...\n",
       "Wilma        [AR, CA, CO, GA, IA, IL, IN, KS, KY, LA, MI, M...\n",
       "Wilmer       [LA, PA, AL, PA, TX, VA, AL, FL, GA, IA, IL, I...\n",
       "Wilson       [GA, LA, MD, MS, SC, TX, VA, AL, AR, GA, KY, L...\n",
       "Winifred     [FL, GA, IA, IL, IN, KS, KY, MA, ME, MI, MN, M...\n",
       "Winston      [AR, IL, MS, TX, VA, AL, CA, MA, TX, VA, VT, A...\n",
       "Woodrow      [SC, AL, GA, KS, KY, MS, NC, SC, TX, VA, WV, A...\n",
       "Wyatt        [TX, AR, GA, NC, MS, AL, GA, TX, AL, VA, AL, A...\n",
       "Xavier       [NY, TX, TX, NY, CA, TX, TX, TX, CA, NY, TX, C...\n",
       "Yolanda      [NY, IL, MA, NJ, NY, PA, NY, PA, IL, MA, NJ, N...\n",
       "Yvette       [NY, MA, ME, NY, MA, ME, NH, NY, RI, MA, ME, N...\n",
       "Yvonne       [IL, LA, MA, ME, NH, NY, RI, IL, LA, MA, ME, N...\n",
       "Zachariah    [CA, TX, CA, CO, FL, MO, NY, TX, WA, CA, CO, F...\n",
       "Zachary      [NY, NY, NY, NY, NY, NY, LA, NY, NY, NY, NY, N...\n",
       "Zachery      [GA, TX, TX, GA, NY, GA, AL, LA, IL, TX, TX, C...\n",
       "Zackary      [CA, AL, CA, CA, CA, TX, CA, IL, OK, TN, TX, C...\n",
       "Zackery      [GA, GA, CA, GA, GA, CA, CA, FL, IL, CA, FL, I...\n",
       "Zane         [KS, OH, PA, MI, NC, NY, OH, OK, PA, AR, OK, P...\n",
       "Zion         [CA, CA, CA, CA, NY, CA, NY, PA, CA, HI, NY, C...\n",
       "Zoe          [OK, TX, TX, PA, KS, OH, PA, MO, OH, TX, PA, O...\n",
       "Zoey         [CA, CA, CA, FL, IA, MI, NY, OH, WA, CA, IA, I...\n",
       "Length: 1654, dtype: object"
      ]
     },
     "execution_count": 21,
     "metadata": {},
     "output_type": "execute_result"
    }
   ],
   "source": [
    "follower = df2.groupby(\"name\").apply(helper3).dropna()\n",
    "follower"
   ]
  },
  {
   "cell_type": "markdown",
   "metadata": {},
   "source": [
    "### conclusions: <br/>\n",
    "\n",
    "1.Certain states are “trendsetters”.<br/>\n",
    "2.There are states that tend to adopt names after they gain popularity in other states.<br/>"
   ]
  },
  {
   "cell_type": "markdown",
   "metadata": {},
   "source": [
    "### limitations:<br/>\n",
    "1.It is possible that we missed some trendsetters since there might be names which first appeared in 1910, but we chose to ignore it since we don't want to confuse them with the names that came out before 1910.<br/>\n",
    "2.We ignored those names which were first used by more than one state, since we think there should be only one trendsetter for each name. And our data limit our ability to decide which state should be only trendsetter for each name under this circumstance."
   ]
  },
  {
   "cell_type": "markdown",
   "metadata": {},
   "source": [
    "## 4.Using external data"
   ]
  },
  {
   "cell_type": "markdown",
   "metadata": {},
   "source": [
    "### Motivation:<br/>\n",
    "How did the naming style change over time?<br/>\n",
    "\n",
    "### External Data:<br/>\n",
    "The external dataset I need basically has two variables: name, category. And this dataset can divide the names into several categories, for example, biblical, modern, traditional and other. After merging the data, the final dataset will have six variables: name, gender, state, year, number of babies, category.<br/>\n",
    "\n",
    "### Approach:<br/>\n",
    "1.To calculate the total number of babies for each category for each year. <br/>\n",
    "2.To make a trend graph to see how these four categories change over time. There should be four lines in the graph which means different categories with four different colors. The x axis is the year and the y axis is the number of babies.\n"
   ]
  }
 ],
 "metadata": {
  "kernelspec": {
   "display_name": "Python 3",
   "language": "python",
   "name": "python3"
  },
  "language_info": {
   "codemirror_mode": {
    "name": "ipython",
    "version": 3
   },
   "file_extension": ".py",
   "mimetype": "text/x-python",
   "name": "python",
   "nbconvert_exporter": "python",
   "pygments_lexer": "ipython3",
   "version": "3.6.5"
  }
 },
 "nbformat": 4,
 "nbformat_minor": 2
}
